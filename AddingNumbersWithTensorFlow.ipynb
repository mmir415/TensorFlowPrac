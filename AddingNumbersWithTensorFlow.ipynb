{
  "nbformat": 4,
  "nbformat_minor": 0,
  "metadata": {
    "colab": {
      "name": "AddingNumbersWithTensorFlow.ipynb",
      "provenance": [],
      "include_colab_link": true
    },
    "kernelspec": {
      "name": "python3",
      "display_name": "Python 3"
    }
  },
  "cells": [
    {
      "cell_type": "markdown",
      "metadata": {
        "id": "view-in-github",
        "colab_type": "text"
      },
      "source": [
        "<a href=\"https://colab.research.google.com/github/mmir415/TensorFlowPrac/blob/master/AddingNumbersWithTensorFlow.ipynb\" target=\"_parent\"><img src=\"https://colab.research.google.com/assets/colab-badge.svg\" alt=\"Open In Colab\"/></a>"
      ]
    },
    {
      "cell_type": "code",
      "metadata": {
        "id": "r0TXAjrXIXC8",
        "colab_type": "code",
        "colab": {
          "base_uri": "https://localhost:8080/",
          "height": 131
        },
        "outputId": "bfaeb393-77f5-45a4-98bd-2ee288d22a3f"
      },
      "source": [
        "import tensorflow as tf\n",
        "\n",
        "# get the two numbers to add from the command prompt\n",
        "intNum1 = int(input(\"enter num 1: \"))\n",
        "intNum2 = int(input(\"enter num 2: \"))\n",
        "\n",
        "# establish two tensors, one for each input number\n",
        "num1 = tf.Variable(intNum1)\n",
        "num2 = tf.Variable(intNum2)\n",
        "\n",
        "# establish graph\n",
        "sum = tf.add(num1, num2)\n",
        "\n",
        "# note that this shows information about sum, but does NOT evaluate anything yet\n",
        "print(\"sum = \" + str(sum))\n",
        "\n",
        "# instantiate a global variables initializer\n",
        "globalVarsInitializer = tf.global_variables_initializer()\n",
        "\n",
        "# finally we can run the graph (in a session)\n",
        "with tf.Session() as sess:\n",
        "    globalVarsInitializer.run()\n",
        "    result = sum.eval()\n",
        "# end with\n",
        "\n",
        "# show the result\n",
        "print(\"result = \" + str(result))"
      ],
      "execution_count": 1,
      "outputs": [
        {
          "output_type": "display_data",
          "data": {
            "text/html": [
              "<p style=\"color: red;\">\n",
              "The default version of TensorFlow in Colab will soon switch to TensorFlow 2.x.<br>\n",
              "We recommend you <a href=\"https://www.tensorflow.org/guide/migrate\" target=\"_blank\">upgrade</a> now \n",
              "or ensure your notebook will continue to use TensorFlow 1.x via the <code>%tensorflow_version 1.x</code> magic:\n",
              "<a href=\"https://colab.research.google.com/notebooks/tensorflow_version.ipynb\" target=\"_blank\">more info</a>.</p>\n"
            ],
            "text/plain": [
              "<IPython.core.display.HTML object>"
            ]
          },
          "metadata": {
            "tags": []
          }
        },
        {
          "output_type": "stream",
          "text": [
            "enter num 1: 3\n",
            "enter num 2: 4\n",
            "sum = Tensor(\"Add:0\", shape=(), dtype=int32)\n",
            "result = 7\n"
          ],
          "name": "stdout"
        }
      ]
    }
  ]
}